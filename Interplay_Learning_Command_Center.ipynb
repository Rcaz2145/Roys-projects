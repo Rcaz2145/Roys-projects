{
  "nbformat": 4,
  "nbformat_minor": 0,
  "metadata": {
    "colab": {
      "provenance": [],
      "authorship_tag": "ABX9TyNY0R/IkZUgPNLVQomJgyul",
      "include_colab_link": true
    },
    "kernelspec": {
      "name": "python3",
      "display_name": "Python 3"
    },
    "language_info": {
      "name": "python"
    }
  },
  "cells": [
    {
      "cell_type": "markdown",
      "metadata": {
        "id": "view-in-github",
        "colab_type": "text"
      },
      "source": [
        "<a href=\"https://colab.research.google.com/github/Rcaz2145/Roys-projects/blob/main/Interplay_Learning_Command_Center.ipynb\" target=\"_parent\"><img src=\"https://colab.research.google.com/assets/colab-badge.svg\" alt=\"Open In Colab\"/></a>"
      ]
    },
    {
      "cell_type": "code",
      "execution_count": null,
      "metadata": {
        "id": "zv7Gq6LMYIfQ"
      },
      "outputs": [],
      "source": [
        "class CommandCenter:\n",
        "    def sell(self):\n",
        "        print(\"Welcome to Interplay Learning Command Center Knowledge Hub.\")\n",
        "        choice = input(\"Do you want a program dashboard that can train and manage your workforce? (yes/no): \").lower()\n",
        "        if choice in [\"yes\", \"y\"]:\n",
        "            choice2 = input(\"Would you like to improve your company's efficiency with effective training? (yes/no): \").lower()\n",
        "            if choice2 in [\"yes\", \"y\"]:\n",
        "                choice3 = input(\"Would you like to reduce callbacks and increase retention rates? (yes/no): \").lower()\n",
        "                if choice3 in [\"yes\", \"y\"]:\n",
        "                    choice4 = input(\"Would you like to explore our pricing plans? (yes/no): \").lower()\n",
        "                    if choice4 in [\"yes\", \"y\"]:\n",
        "                        print(\"We have three pricing options:\")\n",
        "                        print(\"1. Individual - $54/month\")\n",
        "                        print(\"2. Team - Starting at $229/month\")\n",
        "                        print(\"3. Custom - Get a Quote\")\n",
        "                        choice5 = input(\"Which pricing plan are you interested in? (1/2/3): \")\n",
        "                        if choice5 == \"1\":\n",
        "                            print(\"Individual plan includes:\")\n",
        "                            print(\"- Access to the Full SkillMill Catalog\")\n",
        "                            print(\"- Certificates of Completion\")\n",
        "                            print(\"- Results Tracker\")\n",
        "                            print(\"- 2-Week Free Trial\")\n",
        "                            print(\"*Save 10% When Billed Annually\")\n",
        "                            print(\"Get started with Individual plan at https://www.interplaylearning.com/pricing/\")\n",
        "                        elif choice5 == \"2\":\n",
        "                            print(\"Team plan includes:\")\n",
        "                            print(\"- Access to the full content catalog with over 300 hours of material\")\n",
        "                            print(\"- Command Center Access for Custom Learning Paths, Analytics, and Reports\")\n",
        "                            print(\"- Industry-Specific Learning Paths\")\n",
        "                            print(\"- Certificates of Completion\")\n",
        "                            print(\"- CEU Eligibility\")\n",
        "                            print(\"- EPA 608 and OSHA 10 packages available for purchase\")\n",
        "                            print(\"- Skills Assessments\")\n",
        "                            print(\"- Virtual onboarding and 24/7 technical support (with upgrade opportunities)\")\n",
        "                            print(\"Get started with Team plan for $229/month billed annually at $2748. at https://www.interplaylearning.com/pricing/\")\n",
        "                        elif choice5 == \"3\":\n",
        "                            print(\"Custom plan includes all features of the Team plan plus:\")\n",
        "                            print(\"- LMS Integration\")\n",
        "                            print(\"- White Label\")\n",
        "                            print(\"- Single Sign-On (SSO)\")\n",
        "                            print(\"- Custom Content Option\")\n",
        "                            print(\"- Strategic Account Management\")\n",
        "                            print(\"Please get in touch with us for a custom quote.\")\n",
        "                            print(\"Contact us for a Custom plan at https://www.interplaylearning.com/pricing/\")\n",
        "                        else:\n",
        "                            print(\"Invalid choice. Please select a valid pricing plan.\")\n",
        "                    else:\n",
        "                        print(\"Thank you for considering Interplay Learning Command Center Knowledge Hub. Have a nice day!\")\n",
        "                else:\n",
        "                    print(\"Thank you for considering Command Center Knowledge Hub. Have a nice day!\")\n",
        "            else:\n",
        "                print(\"Thank you for considering Command Center Knowledge Hub. Have a nice day!\")\n",
        "        elif choice in [\"no\", \"n\"]:\n",
        "            print(\"Thank you for considering Command Center Knowledge Hub. Have a nice day!\")\n",
        "        else:\n",
        "            print(\"Invalid input. Please enter 'yes' or 'no'.\")\n",
        "        print(\"\\n\\n---\\n\")\n",
        "        print(\"Thank you for using Roy Cohen's program. Have a great day!\")\n",
        "        print(\"Royazcohen@gmail.com\")\n",
        "        input(\"Press Enter to exit...\")  # Wait for user to press Enter before exiting\n",
        "\n",
        "software = CommandCenter()\n",
        "software.sell()"
      ]
    }
  ]
}